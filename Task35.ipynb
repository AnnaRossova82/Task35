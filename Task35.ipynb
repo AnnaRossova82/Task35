{
 "cells": [
  {
   "cell_type": "code",
   "execution_count": 3,
   "id": "5e7863e6",
   "metadata": {},
   "outputs": [],
   "source": [
    "%matplotlib inline\n",
    "import pandas as pd\n",
    "import numpy as np\n",
    "import seaborn as sb\n",
    "sb.set_style('whitegrid')\n",
    "import matplotlib.pyplot as plt\n",
    "import sklearn\n",
    "from sklearn.preprocessing import scale\n",
    "from pylab import rcParams\n",
    "rcParams['figure.figsize']=10,8\n",
    "from sklearn.linear_model import LinearRegression\n"
   ]
  },
  {
   "cell_type": "code",
   "execution_count": 7,
   "id": "a312790f",
   "metadata": {},
   "outputs": [
    {
     "name": "stdout",
     "output_type": "stream",
     "text": [
      "coefficient of determination: 0.9529481969048356\n",
      "intercept: 2.483673405373196\n",
      "slope:  [9.77580339]\n"
     ]
    }
   ],
   "source": [
    "data=pd.read_csv('student_scores.csv')\n",
    "data.head()\n",
    "X1 = data['Hours']\n",
    "y1 = data['Scores']\n",
    "X=np.array(X1).reshape(-1,1)\n",
    "y=np.array(y1)\n",
    "model = LinearRegression()\n",
    "model.fit(X, y)\n",
    "r_sq = model.score(X, y)\n",
    "print(f\"coefficient of determination: {r_sq}\")\n",
    "print('intercept:', model.intercept_)\n",
    "print('slope: ',model.coef_)"
   ]
  },
  {
   "cell_type": "code",
   "execution_count": 5,
   "id": "80c5a9e4",
   "metadata": {},
   "outputs": [
    {
     "name": "stdout",
     "output_type": "stream",
     "text": [
      "coefficient of determination: 1.0\n"
     ]
    }
   ],
   "source": [
    "X_new=np.random.randint(0,27,(100,1))\n",
    "y_new=model.predict(X_new)\n",
    "r_sqr = model.score(X_new, y_new)\n",
    "print(f\"coefficient of determination: {r_sqr}\")\n"
   ]
  },
  {
   "cell_type": "code",
   "execution_count": 9,
   "id": "a1b8f4ed",
   "metadata": {},
   "outputs": [
    {
     "name": "stdout",
     "output_type": "stream",
     "text": [
      "Predicted response: [26.92318188 52.3402707  33.76624426 85.57800223 36.69898527 17.14737849\n",
      " 92.4210646  56.25059205 83.62284155 28.87834256 77.75735951 60.16091341\n",
      " 46.47478866 34.74382459 13.23705714 89.48832358 26.92318188 21.05769985\n",
      " 62.11607409 74.8246185  28.87834256 49.40752968 39.63172629 69.9367168\n",
      " 78.73493985]\n"
     ]
    }
   ],
   "source": [
    "y_pred=model.predict(X)\n",
    "print(\"Predicted response:\", y_pred)\n",
    "#це глянути різницю"
   ]
  },
  {
   "cell_type": "code",
   "execution_count": 31,
   "id": "a5ab3742",
   "metadata": {
    "scrolled": true
   },
   "outputs": [
    {
     "data": {
      "text/plain": [
       "Text(0, 0.5, 'Scores')"
      ]
     },
     "execution_count": 31,
     "metadata": {},
     "output_type": "execute_result"
    },
    {
     "data": {
      "image/png": "[encoded data removed]",
      "text/plain": [
       "<Figure size 1000x800 with 1 Axes>"
      ]
     },
     "metadata": {},
     "output_type": "display_data"
    }
   ],
   "source": [
    "plt.scatter(data.Hours,data.Scores,color=\"black\")\n",
    "plt.plot(X_new,y_new,'r^')\n",
    "plt.xlabel('Hours')\n",
    "plt.ylabel('Scores')"
   ]
  },
  {
   "cell_type": "code",
   "execution_count": 30,
   "id": "b2e31075",
   "metadata": {},
   "outputs": [
    {
     "name": "stdout",
     "output_type": "stream",
     "text": [
      "2.483673405373196 [9.77580339]\n"
     ]
    }
   ],
   "source": [
    "print(model.intercept_,model.coef_)\n",
    "#Якість отриманої резгесії виглядає задовільно, і коефіціент достатньо високий для адекватності моделі"
   ]
  },
  {
   "cell_type": "code",
   "execution_count": 5,
   "id": "1ffc0a09",
   "metadata": {},
   "outputs": [
    {
     "data": {
      "text/html": [
       "<div>\n",
       "<style scoped>\n",
       "    .dataframe tbody tr th:only-of-type {\n",
       "        vertical-align: middle;\n",
       "    }\n",
       "\n",
       "    .dataframe tbody tr th {\n",
       "        vertical-align: top;\n",
       "    }\n",
       "\n",
       "    .dataframe thead th {\n",
       "        text-align: right;\n",
       "    }\n",
       "</style>\n",
       "<table border=\"1\" class=\"dataframe\">\n",
       "  <thead>\n",
       "    <tr style=\"text-align: right;\">\n",
       "      <th></th>\n",
       "      <th>Petrol_tax</th>\n",
       "      <th>Average_income</th>\n",
       "      <th>Paved_Highways</th>\n",
       "      <th>Population_Driver_licence(%)</th>\n",
       "      <th>Petrol_Consumption</th>\n",
       "    </tr>\n",
       "  </thead>\n",
       "  <tbody>\n",
       "    <tr>\n",
       "      <th>0</th>\n",
       "      <td>9.0</td>\n",
       "      <td>3571</td>\n",
       "      <td>1976</td>\n",
       "      <td>0.525</td>\n",
       "      <td>541</td>\n",
       "    </tr>\n",
       "    <tr>\n",
       "      <th>1</th>\n",
       "      <td>9.0</td>\n",
       "      <td>4092</td>\n",
       "      <td>1250</td>\n",
       "      <td>0.572</td>\n",
       "      <td>524</td>\n",
       "    </tr>\n",
       "    <tr>\n",
       "      <th>2</th>\n",
       "      <td>9.0</td>\n",
       "      <td>3865</td>\n",
       "      <td>1586</td>\n",
       "      <td>0.580</td>\n",
       "      <td>561</td>\n",
       "    </tr>\n",
       "    <tr>\n",
       "      <th>3</th>\n",
       "      <td>7.5</td>\n",
       "      <td>4870</td>\n",
       "      <td>2351</td>\n",
       "      <td>0.529</td>\n",
       "      <td>414</td>\n",
       "    </tr>\n",
       "    <tr>\n",
       "      <th>4</th>\n",
       "      <td>8.0</td>\n",
       "      <td>4399</td>\n",
       "      <td>431</td>\n",
       "      <td>0.544</td>\n",
       "      <td>410</td>\n",
       "    </tr>\n",
       "  </tbody>\n",
       "</table>\n",
       "</div>"
      ],
      "text/plain": [
       "   Petrol_tax  Average_income  Paved_Highways  Population_Driver_licence(%)  \\\n",
       "0         9.0            3571            1976                         0.525   \n",
       "1         9.0            4092            1250                         0.572   \n",
       "2         9.0            3865            1586                         0.580   \n",
       "3         7.5            4870            2351                         0.529   \n",
       "4         8.0            4399             431                         0.544   \n",
       "\n",
       "   Petrol_Consumption  \n",
       "0                 541  \n",
       "1                 524  \n",
       "2                 561  \n",
       "3                 414  \n",
       "4                 410  "
      ]
     },
     "execution_count": 5,
     "metadata": {},
     "output_type": "execute_result"
    }
   ],
   "source": [
    "data=pd.read_csv('petrol_consumption.csv')\n",
    "data.head()"
   ]
  },
  {
   "cell_type": "code",
   "execution_count": 7,
   "id": "a6752110",
   "metadata": {},
   "outputs": [
    {
     "name": "stdout",
     "output_type": "stream",
     "text": [
      "                              Petrol_tax  Average_income  Paved_Highways  \\\n",
      "Petrol_tax                      1.000000        0.012665       -0.522130   \n",
      "Average_income                  0.012665        1.000000        0.050163   \n",
      "Paved_Highways                 -0.522130        0.050163        1.000000   \n",
      "Population_Driver_licence(%)   -0.288037        0.157070       -0.064129   \n",
      "Petrol_Consumption             -0.451280       -0.244862        0.019042   \n",
      "\n",
      "                              Population_Driver_licence(%)  Petrol_Consumption  \n",
      "Petrol_tax                                       -0.288037           -0.451280  \n",
      "Average_income                                    0.157070           -0.244862  \n",
      "Paved_Highways                                   -0.064129            0.019042  \n",
      "Population_Driver_licence(%)                      1.000000            0.698965  \n",
      "Petrol_Consumption                                0.698965            1.000000  \n"
     ]
    }
   ],
   "source": [
    "data.columns=['Petrol_tax','Average_income', 'Paved_Highways','Population_Driver_licence(%)','Petrol_Consumption']\n",
    "print(data.corr())\n",
    "#Це просто подивитись"
   ]
  },
  {
   "cell_type": "code",
   "execution_count": 27,
   "id": "7fb46df8",
   "metadata": {},
   "outputs": [],
   "source": [
    "ch_data=data[['Petrol_tax','Average_income', 'Paved_Highways','Population_Driver_licence(%)']].values\n",
    "ch_target=data[['Petrol_Consumption']].values\n",
    "X,y=scale(ch_data),ch_target"
   ]
  },
  {
   "cell_type": "code",
   "execution_count": 20,
   "id": "bd0080b5",
   "metadata": {},
   "outputs": [],
   "source": [
    "from sklearn.linear_model import LinearRegression"
   ]
  },
  {
   "cell_type": "code",
   "execution_count": 34,
   "id": "713c71a3",
   "metadata": {},
   "outputs": [
    {
     "name": "stdout",
     "output_type": "stream",
     "text": [
      "coefficient of determination: 0.6786867115698207\n"
     ]
    }
   ],
   "source": [
    "model2 = LinearRegression()\n",
    "model2.fit(X, y)\n",
    "r_sq = model2.score(X, y)\n",
    "print(f\"coefficient of determination: {r_sq}\")\n"
   ]
  },
  {
   "cell_type": "code",
   "execution_count": null,
   "id": "275ae02e",
   "metadata": {},
   "outputs": [],
   "source": []
  },
  {
   "cell_type": "code",
   "execution_count": null,
   "id": "e96b7e2e",
   "metadata": {},
   "outputs": [],
   "source": [
    "#Такий собі коефіціент, проте достатній для адекватності моделі. \n",
    "#Мабуть, треба щось інше спробувати, але в цьому завданні здається це треба"
   ]
  },
  {
   "cell_type": "code",
   "execution_count": 26,
   "id": "ed6cdfa5",
   "metadata": {},
   "outputs": [
    {
     "data": {
      "text/plain": [
       "Text(0, 0.5, 'Petrol_Consumption')"
      ]
     },
     "execution_count": 26,
     "metadata": {},
     "output_type": "execute_result"
    },
    {
     "data": {
      "image/png": "[encoded data removed]",
      "text/plain": [
       "<Figure size 1000x800 with 1 Axes>"
      ]
     },
     "metadata": {},
     "output_type": "display_data"
    }
   ],
   "source": [
    "plt.plot(X,y,'r^')\n",
    "plt.xlabel('ch_data')\n",
    "plt.ylabel('Petrol_Consumption')\n",
    "           "
   ]
  },
  {
   "cell_type": "code",
   "execution_count": null,
   "id": "60c505cc",
   "metadata": {},
   "outputs": [],
   "source": []
  }
 ],
 "metadata": {
  "kernelspec": {
   "display_name": "Python 3 (ipykernel)",
   "language": "python",
   "name": "python3"
  },
  "language_info": {
   "codemirror_mode": {
    "name": "ipython",
    "version": 3
   },
   "file_extension": ".py",
   "mimetype": "text/x-python",
   "name": "python",
   "nbconvert_exporter": "python",
   "pygments_lexer": "ipython3",
   "version": "3.9.13"
  }
 },
 "nbformat": 4,
 "nbformat_minor": 5
}
